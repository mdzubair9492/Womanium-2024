{
  "cells": [
    {
      "cell_type": "markdown",
      "metadata": {
        "deletable": false,
        "editable": false,
        "nbgrader": {
          "cell_type": "markdown",
          "checksum": "ac08d7ea268ce6a20a0e0a0d19c24352",
          "grade": false,
          "grade_id": "cell-33da3167fca0d468",
          "locked": true,
          "schema_version": 3,
          "solution": false,
          "task": false
        },
        "id": "kwgo_9TjMdBK"
      },
      "source": [
        "# Homework - Grover MaxCut\n",
        "\n",
        "The places where you have enter code are marked with `# YOUR CODE HERE`."
      ]
    },
    {
      "cell_type": "code",
      "source": [
        "!pip install cirq --quiet\n",
        "!pip install qutip --quiet"
      ],
      "metadata": {
        "colab": {
          "base_uri": "https://localhost:8080/"
        },
        "id": "nBarEuYhMgcb",
        "outputId": "76e82b1e-9c28-43ec-873e-083125ec4bb9"
      },
      "execution_count": 1,
      "outputs": [
        {
          "output_type": "stream",
          "name": "stdout",
          "text": [
            "\u001b[2K     \u001b[90m━━━━━━━━━━━━━━━━━━━━━━━━━━━━━━━━━━━━━━━━\u001b[0m \u001b[32m1.9/1.9 MB\u001b[0m \u001b[31m31.1 MB/s\u001b[0m eta \u001b[36m0:00:00\u001b[0m\n",
            "\u001b[2K     \u001b[90m━━━━━━━━━━━━━━━━━━━━━━━━━━━━━━━━━━━━━━━━\u001b[0m \u001b[32m532.7/532.7 kB\u001b[0m \u001b[31m36.6 MB/s\u001b[0m eta \u001b[36m0:00:00\u001b[0m\n",
            "\u001b[2K     \u001b[90m━━━━━━━━━━━━━━━━━━━━━━━━━━━━━━━━━━━━━━━━\u001b[0m \u001b[32m60.5/60.5 kB\u001b[0m \u001b[31m7.9 MB/s\u001b[0m eta \u001b[36m0:00:00\u001b[0m\n",
            "\u001b[2K     \u001b[90m━━━━━━━━━━━━━━━━━━━━━━━━━━━━━━━━━━━━━━━━\u001b[0m \u001b[32m69.3/69.3 kB\u001b[0m \u001b[31m9.7 MB/s\u001b[0m eta \u001b[36m0:00:00\u001b[0m\n",
            "\u001b[2K     \u001b[90m━━━━━━━━━━━━━━━━━━━━━━━━━━━━━━━━━━━━━━━━\u001b[0m \u001b[32m596.5/596.5 kB\u001b[0m \u001b[31m50.8 MB/s\u001b[0m eta \u001b[36m0:00:00\u001b[0m\n",
            "\u001b[2K     \u001b[90m━━━━━━━━━━━━━━━━━━━━━━━━━━━━━━━━━━━━━━━━\u001b[0m \u001b[32m202.6/202.6 kB\u001b[0m \u001b[31m25.8 MB/s\u001b[0m eta \u001b[36m0:00:00\u001b[0m\n",
            "\u001b[2K     \u001b[90m━━━━━━━━━━━━━━━━━━━━━━━━━━━━━━━━━━━━━━━━\u001b[0m \u001b[32m53.0/53.0 kB\u001b[0m \u001b[31m7.3 MB/s\u001b[0m eta \u001b[36m0:00:00\u001b[0m\n",
            "\u001b[2K     \u001b[90m━━━━━━━━━━━━━━━━━━━━━━━━━━━━━━━━━━━━━━━━\u001b[0m \u001b[32m6.9/6.9 MB\u001b[0m \u001b[31m76.3 MB/s\u001b[0m eta \u001b[36m0:00:00\u001b[0m\n",
            "\u001b[2K     \u001b[90m━━━━━━━━━━━━━━━━━━━━━━━━━━━━━━━━━━━━━━━━\u001b[0m \u001b[32m45.6/45.6 kB\u001b[0m \u001b[31m6.2 MB/s\u001b[0m eta \u001b[36m0:00:00\u001b[0m\n",
            "\u001b[?25h  Preparing metadata (setup.py) ... \u001b[?25l\u001b[?25hdone\n",
            "\u001b[2K     \u001b[90m━━━━━━━━━━━━━━━━━━━━━━━━━━━━━━━━━━━━━━━━\u001b[0m \u001b[32m2.4/2.4 MB\u001b[0m \u001b[31m50.4 MB/s\u001b[0m eta \u001b[36m0:00:00\u001b[0m\n",
            "\u001b[2K     \u001b[90m━━━━━━━━━━━━━━━━━━━━━━━━━━━━━━━━━━━━━━━━\u001b[0m \u001b[32m1.7/1.7 MB\u001b[0m \u001b[31m36.7 MB/s\u001b[0m eta \u001b[36m0:00:00\u001b[0m\n",
            "\u001b[2K     \u001b[90m━━━━━━━━━━━━━━━━━━━━━━━━━━━━━━━━━━━━━━━━\u001b[0m \u001b[32m117.8/117.8 kB\u001b[0m \u001b[31m5.7 MB/s\u001b[0m eta \u001b[36m0:00:00\u001b[0m\n",
            "\u001b[2K     \u001b[90m━━━━━━━━━━━━━━━━━━━━━━━━━━━━━━━━━━━━━━━━\u001b[0m \u001b[32m526.7/526.7 kB\u001b[0m \u001b[31m29.9 MB/s\u001b[0m eta \u001b[36m0:00:00\u001b[0m\n",
            "\u001b[?25h  Building wheel for rpcq (setup.py) ... \u001b[?25l\u001b[?25hdone\n",
            "\u001b[2K     \u001b[90m━━━━━━━━━━━━━━━━━━━━━━━━━━━━━━━━━━━━━━━━\u001b[0m \u001b[32m28.0/28.0 MB\u001b[0m \u001b[31m32.1 MB/s\u001b[0m eta \u001b[36m0:00:00\u001b[0m\n",
            "\u001b[?25h"
          ]
        }
      ]
    },
    {
      "cell_type": "code",
      "execution_count": 2,
      "metadata": {
        "id": "uBra7OeqMdBL"
      },
      "outputs": [],
      "source": [
        "import cirq\n",
        "from cirq import H, X, Y, Z, CX, inverse"
      ]
    },
    {
      "cell_type": "markdown",
      "metadata": {
        "deletable": false,
        "editable": false,
        "nbgrader": {
          "cell_type": "markdown",
          "checksum": "3472598b6fdd1d56b50a9706c01827f8",
          "grade": false,
          "grade_id": "cell-d981eeb5458c0744",
          "locked": true,
          "schema_version": 3,
          "solution": false,
          "task": false
        },
        "id": "M7EsgJr4MdBM"
      },
      "source": [
        "## Question 1 (4 points)\n",
        "\n",
        "Write a function, `oracle010`, that implements an oracle that marks the state $|010 \\rangle$. The function `oracle010` has\n",
        "\n",
        "* input: `qq`, a 3-qubit register\n",
        "* returns: `None`\n",
        "\n",
        "The function should append a sequence of gates to `qq` to mark the state $|010\\rangle$ only. Don't append any measurements to `qq`.\n",
        "\n",
        "To help you test the function, we have provided the `grover_diffusion` and `grover` functions."
      ]
    },
    {
      "cell_type": "code",
      "execution_count": 13,
      "metadata": {
        "deletable": false,
        "nbgrader": {
          "cell_type": "code",
          "checksum": "3234c674937c9ea97ec27157e9062acf",
          "grade": false,
          "grade_id": "cell-a08e811a0e1777c7",
          "locked": false,
          "schema_version": 3,
          "solution": true,
          "task": false
        },
        "id": "_cX9y40tMdBM"
      },
      "outputs": [],
      "source": [
        "def oracle010(qq):\n",
        "    yield X(qq[0])\n",
        "    yield X(qq[2])\n",
        "    yield Z(qq[2]).controlled_by(*(qq[0:2]))\n",
        "    yield X(qq[0])\n",
        "    yield X(qq[2])\n",
        "\n"
      ]
    },
    {
      "cell_type": "code",
      "execution_count": 14,
      "metadata": {
        "colab": {
          "base_uri": "https://localhost:8080/",
          "height": 104
        },
        "id": "bcCi5WuHMdBN",
        "outputId": "7e0df4d0-3a39-4e51-a6b8-e462ab2ce175"
      },
      "outputs": [
        {
          "output_type": "execute_result",
          "data": {
            "text/plain": [
              "0: ───X───@───X───\n",
              "          │\n",
              "1: ───────@───────\n",
              "          │\n",
              "2: ───X───@───X───"
            ],
            "text/html": [
              "<pre style=\"overflow: auto; white-space: pre;\">0: ───X───@───X───\n",
              "          │\n",
              "1: ───────@───────\n",
              "          │\n",
              "2: ───X───@───X───</pre>"
            ]
          },
          "metadata": {},
          "execution_count": 14
        }
      ],
      "source": [
        "# visualize your implemented gates\n",
        "qqTest = cirq.LineQubit.range(3)\n",
        "circuit = cirq.Circuit()\n",
        "circuit.append(oracle010(qqTest))\n",
        "circuit"
      ]
    },
    {
      "cell_type": "code",
      "execution_count": 15,
      "metadata": {
        "id": "Tdw5W_ViMdBN"
      },
      "outputs": [],
      "source": [
        "# To check your solution, we need some to implement grover\n",
        "def grover_diffusion(qq,n):\n",
        "    yield H.on_each(*qq)\n",
        "    yield X.on_each(*qq)\n",
        "    yield Z(qq[n-1]).controlled_by(*(qq[0:n-1]))\n",
        "    yield X.on_each(*qq)\n",
        "    yield H.on_each(*qq)"
      ]
    },
    {
      "cell_type": "code",
      "execution_count": 16,
      "metadata": {
        "id": "sZQVthELMdBN"
      },
      "outputs": [],
      "source": [
        "def grover(trials_number):\n",
        "    n=3\n",
        "    qq = cirq.LineQubit.range(n)\n",
        "    circuit = cirq.Circuit()\n",
        "    circuit.append(H.on_each(*qq))\n",
        "\n",
        "    for i in range(2):\n",
        "        circuit.append(oracle010(qq))\n",
        "        circuit.append(grover_diffusion(qq,n))\n",
        "    circuit.append(cirq.measure(*qq, key='result'))\n",
        "\n",
        "    # determine the statistics of the measurements\n",
        "    s = cirq.Simulator()\n",
        "    samples = s.run(circuit, repetitions=trials_number)\n",
        "\n",
        "    def bitstring(bits):\n",
        "        return \"\".join(str(int(b)) for b in bits)\n",
        "\n",
        "    counts = samples.histogram(key=\"result\",fold_func=bitstring)\n",
        "    print(counts)\n",
        "    return counts.get('010')"
      ]
    },
    {
      "cell_type": "code",
      "execution_count": 17,
      "metadata": {
        "colab": {
          "base_uri": "https://localhost:8080/"
        },
        "id": "2zodNfn2MdBN",
        "outputId": "2b50585c-7ad8-4981-94e9-bdc90eec7747"
      },
      "outputs": [
        {
          "output_type": "stream",
          "name": "stdout",
          "text": [
            "Counter({'010': 94, '101': 2, '100': 1, '011': 1, '110': 1, '001': 1})\n"
          ]
        },
        {
          "output_type": "execute_result",
          "data": {
            "text/plain": [
              "94"
            ]
          },
          "metadata": {},
          "execution_count": 17
        }
      ],
      "source": [
        "# run grover to test if your function gives the right answer\n",
        "grover(100)"
      ]
    },
    {
      "cell_type": "code",
      "execution_count": null,
      "metadata": {
        "deletable": false,
        "editable": false,
        "nbgrader": {
          "cell_type": "code",
          "checksum": "cf2c533cdb00d2a3feebe35eda382c3e",
          "grade": true,
          "grade_id": "cell-c892138426ad8ca2",
          "locked": true,
          "points": 4,
          "schema_version": 3,
          "solution": false,
          "task": false
        },
        "id": "D4jvMEiDMdBN"
      },
      "outputs": [],
      "source": [
        "# hidden tests in this cell will be used for grading."
      ]
    },
    {
      "cell_type": "markdown",
      "metadata": {
        "deletable": false,
        "editable": false,
        "nbgrader": {
          "cell_type": "markdown",
          "checksum": "7f228055f783a050ae26ee080abbc49c",
          "grade": false,
          "grade_id": "cell-cd7b8bfe0163bb3c",
          "locked": true,
          "schema_version": 3,
          "solution": false,
          "task": false
        },
        "id": "AU709Q5JMdBN"
      },
      "source": [
        "## Question 2 (6 points)\n",
        "\n",
        "Graph $G$ has 5 vertices and 6 edges: (0,3), (0,4), (1,3), (1,4), (2,3), (2,4).\n",
        "\n",
        "Write an oracle for the graph $G$ to check whether it admits a valid 2-coloring.\n",
        "\n",
        "The function `oracle2` has\n",
        "\n",
        "* input: `qq`, a 12-qubit register\n",
        "* returns: `None`\n",
        "\n",
        "The function should append only a sequence of gates to `qq`. It should not append any measurements to `qq`.\n",
        "\n",
        "Use qubits 0-4 for the vertices, 5-10 for the edges and 11 as the ancilla.\n",
        "\n",
        "You can test the oracle with the provided `grover_diffusion`, `grover` and `oracle_computation2` functions."
      ]
    },
    {
      "cell_type": "code",
      "execution_count": 18,
      "metadata": {
        "deletable": false,
        "nbgrader": {
          "cell_type": "code",
          "checksum": "16112e54c261f4b68868827304f15052",
          "grade": false,
          "grade_id": "cell-d0a829ac63d428cc",
          "locked": false,
          "schema_version": 3,
          "solution": true,
          "task": false
        },
        "id": "AUlRUM3aMdBN"
      },
      "outputs": [],
      "source": [
        "def oracle2(qq):\n",
        "    yield CX(qq[0],qq[5])\n",
        "    yield CX(qq[3],qq[5])\n",
        "\n",
        "    yield CX(qq[0],qq[6])\n",
        "    yield CX(qq[4],qq[6])\n",
        "\n",
        "    yield CX(qq[1],qq[7])\n",
        "    yield CX(qq[3],qq[7])\n",
        "\n",
        "    yield CX(qq[1],qq[8])\n",
        "    yield CX(qq[4],qq[8])\n",
        "\n",
        "    yield CX(qq[2],qq[9])\n",
        "    yield CX(qq[3],qq[9])\n",
        "\n",
        "    yield CX(qq[2],qq[10])\n",
        "    yield CX(qq[4],qq[10])\n",
        "\n",
        "    yield X(qq[11]).controlled_by(*(qq[5:11]))"
      ]
    },
    {
      "cell_type": "code",
      "execution_count": 19,
      "metadata": {
        "id": "-3oa6QSiMdBO"
      },
      "outputs": [],
      "source": [
        "# We need some code so you can check your solution\n",
        "def oracle_computation2(qq):\n",
        "    yield oracle2(qq)\n",
        "    yield Z(qq[11])\n",
        "    yield inverse(oracle2(qq))"
      ]
    },
    {
      "cell_type": "code",
      "execution_count": 20,
      "metadata": {
        "id": "c2OKWzk-MdBO"
      },
      "outputs": [],
      "source": [
        "def grover2(trials_number):\n",
        "    import cirq\n",
        "    from cirq import X, H, Z, inverse, CX\n",
        "    s = cirq.Simulator()\n",
        "\n",
        "    qq = cirq.LineQubit.range(12)\n",
        "    n=5\n",
        "\n",
        "    circuit = cirq.Circuit()\n",
        "    circuit.append(H.on_each(*(qq[0:n])))\n",
        "    for i in range(2):\n",
        "        circuit.append(oracle_computation2(qq))\n",
        "        circuit.append(grover_diffusion(qq,n))\n",
        "\n",
        "    circuit.append(cirq.measure(*(qq[0:n]), key='result'))\n",
        "\n",
        "    # determine the statistics of the measurements\n",
        "    samples = s.run(circuit, repetitions=trials_number)\n",
        "    result = samples.measurements[\"result\"]\n",
        "\n",
        "    def bitstring(bits):\n",
        "        return \"\".join(str(int(b)) for b in bits)\n",
        "\n",
        "    counts = samples.histogram(key=\"result\",fold_func=bitstring)\n",
        "    return counts"
      ]
    },
    {
      "cell_type": "code",
      "execution_count": 21,
      "metadata": {
        "colab": {
          "base_uri": "https://localhost:8080/"
        },
        "id": "kXAi4vHVMdBO",
        "outputId": "e53b6737-4de4-4a14-9d6a-6fb3fa7ff79f"
      },
      "outputs": [
        {
          "output_type": "execute_result",
          "data": {
            "text/plain": [
              "Counter({'11110': 4,\n",
              "         '11100': 453,\n",
              "         '00011': 454,\n",
              "         '10110': 5,\n",
              "         '01001': 3,\n",
              "         '01000': 5,\n",
              "         '00100': 5,\n",
              "         '10010': 2,\n",
              "         '11111': 2,\n",
              "         '01101': 7,\n",
              "         '10111': 4,\n",
              "         '10000': 4,\n",
              "         '11000': 6,\n",
              "         '00101': 3,\n",
              "         '00010': 1,\n",
              "         '01110': 3,\n",
              "         '00001': 3,\n",
              "         '01010': 3,\n",
              "         '00111': 2,\n",
              "         '11011': 2,\n",
              "         '00000': 3,\n",
              "         '10001': 5,\n",
              "         '01011': 6,\n",
              "         '01111': 4,\n",
              "         '11101': 1,\n",
              "         '11001': 2,\n",
              "         '10101': 3,\n",
              "         '11010': 2,\n",
              "         '10100': 1,\n",
              "         '01100': 1,\n",
              "         '10011': 1})"
            ]
          },
          "metadata": {},
          "execution_count": 21
        }
      ],
      "source": [
        "#You can use this cell to test your solution\n",
        "shots=1000\n",
        "grover2(shots)"
      ]
    },
    {
      "cell_type": "code",
      "execution_count": null,
      "metadata": {
        "deletable": false,
        "editable": false,
        "nbgrader": {
          "cell_type": "code",
          "checksum": "4246ce18f04e859e5569cd7b80a1a3ee",
          "grade": true,
          "grade_id": "cell-f3af2ece23c10d8c",
          "locked": true,
          "points": 6,
          "schema_version": 3,
          "solution": false,
          "task": false
        },
        "id": "Z6R6Gi3FMdBO"
      },
      "outputs": [],
      "source": [
        "# hidden tests in this cell will be used for grading."
      ]
    },
    {
      "cell_type": "markdown",
      "metadata": {
        "deletable": false,
        "editable": false,
        "nbgrader": {
          "cell_type": "markdown",
          "checksum": "4688464dab8ef5a5368bb0bb80dec0a2",
          "grade": false,
          "grade_id": "cell-70019a2ede111a61",
          "locked": true,
          "schema_version": 3,
          "solution": false,
          "task": false
        },
        "id": "JT_JD545MdBO"
      },
      "source": [
        "## Question 3 (10 points)\n",
        "\n",
        "Graph $G$ has 4 vertices and 5 edges: (0,1), (0,2), (0,3), (1,2), (1,3)\n",
        "\n",
        "Write an oracle for the graph $G$ to check whether there exists a coloring with at least 4 edges connecting vertices with different colors.\n",
        "\n",
        "The function `oracle3` has\n",
        "\n",
        "* input: `qq`, a 13-qubit register\n",
        "* returns: `None`\n",
        "\n",
        "The function should append only a sequence of gates to `qq`. It should not append any measurements to `qq`.\n",
        "\n",
        "Use qubits\n",
        "- 0-3 for the vertices,\n",
        "- 4-8 for the edges,\n",
        "- 9-11 for the addition (remember we need three qubits here for addition unlike the last question), and\n",
        "- 12 as the ancilla.\n",
        "\n",
        "You can test the oracle with the provided `grover_diffusion`, `grover` and `oracle_computation3` functions."
      ]
    },
    {
      "cell_type": "code",
      "execution_count": 30,
      "metadata": {
        "deletable": false,
        "nbgrader": {
          "cell_type": "code",
          "checksum": "143856f98ba27993913f66a2e3ee33cf",
          "grade": false,
          "grade_id": "cell-a88eeb3907a822ff",
          "locked": false,
          "schema_version": 3,
          "solution": true,
          "task": false
        },
        "id": "iB51hvGtMdBO"
      },
      "outputs": [],
      "source": [
        "def oracle3(qq):\n",
        "\n",
        "    yield CX(qq[0],qq[4])\n",
        "    yield CX(qq[1],qq[4])\n",
        "\n",
        "    yield CX(qq[0],qq[5])\n",
        "    yield CX(qq[2],qq[5])\n",
        "\n",
        "    yield CX(qq[0],qq[6])\n",
        "    yield CX(qq[3],qq[6])\n",
        "\n",
        "    yield CX(qq[1],qq[7])\n",
        "    yield CX(qq[2],qq[7])\n",
        "\n",
        "    yield CX(qq[1],qq[8])\n",
        "    yield CX(qq[3],qq[8])\n",
        "\n",
        "    yield CX(qq[4],qq[9])\n",
        "\n",
        "    # add qubits 5-7\n",
        "    for j in range(5,8):\n",
        "        yield CCX(qq[j], qq[9], qq[10])\n",
        "        yield CX(qq[j], qq[9])\n",
        "\n",
        "    # add qubits 8\n",
        "    yield X(qq[11]).controlled_by(qq[8], qq[9], qq[10])\n",
        "    yield CCX(qq[8], qq[9], qq[10])\n",
        "    yield CX(qq[8], qq[9])\n",
        "\n",
        "    # check if number is equal to four\n",
        "    yield X(qq[9])\n",
        "    yield X(qq[10])\n",
        "    yield X(qq[12]).controlled_by(*(qq[8:11]))\n",
        "\n",
        "\n",
        "\n",
        "\n"
      ]
    },
    {
      "cell_type": "code",
      "execution_count": 31,
      "metadata": {
        "id": "EsbMFmG_MdBO"
      },
      "outputs": [],
      "source": [
        "# We need some code so you can check your solution\n",
        "def oracle_computation3(qq):\n",
        "    yield oracle3(qq)\n",
        "    yield Z(qq[12])\n",
        "    yield inverse(oracle3(qq))"
      ]
    },
    {
      "cell_type": "code",
      "execution_count": 32,
      "metadata": {
        "id": "YxzkAaEGMdBO"
      },
      "outputs": [],
      "source": [
        "import cirq\n",
        "from cirq import X, H, Z, inverse, CX, CCX\n",
        "\n",
        "def grover3(trials_number):\n",
        "    s = cirq.Simulator()\n",
        "\n",
        "    qq = cirq.LineQubit.range(13)\n",
        "    n=4\n",
        "\n",
        "    circuit = cirq.Circuit()\n",
        "    circuit.append(H.on_each(*(qq[0:n])))\n",
        "    for i in range(2):\n",
        "        circuit.append(oracle_computation3(qq))\n",
        "        circuit.append(grover_diffusion(qq,n))\n",
        "\n",
        "    circuit.append(cirq.measure(*(qq[0:n]), key='result'))\n",
        "\n",
        "    # determine the statistics of the measurements\n",
        "    samples = s.run(circuit, repetitions=trials_number)\n",
        "    result = samples.measurements[\"result\"]\n",
        "\n",
        "    def bitstring(bits):\n",
        "        return \"\".join(str(int(b)) for b in bits)\n",
        "\n",
        "    counts = samples.histogram(key=\"result\",fold_func=bitstring)\n",
        "    return counts"
      ]
    },
    {
      "cell_type": "code",
      "execution_count": 33,
      "metadata": {
        "colab": {
          "base_uri": "https://localhost:8080/"
        },
        "id": "gsgaHHC2MdBO",
        "outputId": "2fa13fb9-d35f-4440-c5d3-9863d5d9700f"
      },
      "outputs": [
        {
          "output_type": "execute_result",
          "data": {
            "text/plain": [
              "Counter({'1100': 482,\n",
              "         '0011': 464,\n",
              "         '0001': 3,\n",
              "         '1011': 5,\n",
              "         '0000': 4,\n",
              "         '1001': 4,\n",
              "         '0100': 4,\n",
              "         '0101': 6,\n",
              "         '1010': 2,\n",
              "         '0111': 3,\n",
              "         '1111': 4,\n",
              "         '0010': 3,\n",
              "         '1000': 2,\n",
              "         '1110': 3,\n",
              "         '1101': 6,\n",
              "         '0110': 5})"
            ]
          },
          "metadata": {},
          "execution_count": 33
        }
      ],
      "source": [
        "#You can use this cell to test your solution\n",
        "shots=1000\n",
        "grover3(shots)"
      ]
    },
    {
      "cell_type": "code",
      "execution_count": null,
      "metadata": {
        "deletable": false,
        "editable": false,
        "nbgrader": {
          "cell_type": "code",
          "checksum": "2fb4f23a2628baa5c4bbd53548198e9c",
          "grade": true,
          "grade_id": "cell-e70ddbb5f64a88b3",
          "locked": true,
          "points": 10,
          "schema_version": 3,
          "solution": false,
          "task": false
        },
        "id": "9zuGJOLdMdBO"
      },
      "outputs": [],
      "source": [
        "# hidden tests in this cell will be used for grading."
      ]
    },
    {
      "cell_type": "code",
      "execution_count": null,
      "metadata": {
        "id": "EMw8G1zgMdBO"
      },
      "outputs": [],
      "source": []
    }
  ],
  "metadata": {
    "kernelspec": {
      "display_name": "Python 3 (ipykernel)",
      "language": "python",
      "name": "python3"
    },
    "language_info": {
      "codemirror_mode": {
        "name": "ipython",
        "version": 3
      },
      "file_extension": ".py",
      "mimetype": "text/x-python",
      "name": "python",
      "nbconvert_exporter": "python",
      "pygments_lexer": "ipython3",
      "version": "3.10.12"
    },
    "colab": {
      "provenance": []
    }
  },
  "nbformat": 4,
  "nbformat_minor": 0
}