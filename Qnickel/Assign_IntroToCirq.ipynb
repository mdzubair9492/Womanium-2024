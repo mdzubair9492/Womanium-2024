{
  "cells": [
    {
      "cell_type": "markdown",
      "metadata": {
        "deletable": false,
        "editable": false,
        "nbgrader": {
          "cell_type": "markdown",
          "checksum": "7bd405b070bc2ee267181593f6ee3427",
          "grade": false,
          "grade_id": "cell-1534a91c97e93bef",
          "locked": true,
          "schema_version": 3,
          "solution": false,
          "task": false
        },
        "id": "WEKrnyAdvkEl"
      },
      "source": [
        "# Assignment - Intro To Cirq\n",
        "\n",
        "The places where you have enter code are marked with `# YOUR CODE HERE`."
      ]
    },
    {
      "cell_type": "code",
      "source": [
        "!pip install cirq --quiet\n",
        "!pip install qutip --quiet"
      ],
      "metadata": {
        "colab": {
          "base_uri": "https://localhost:8080/"
        },
        "id": "06ScEbeEvti1",
        "outputId": "79e92a98-1ccf-47bd-fc15-d2d9cdefdd0b"
      },
      "execution_count": 1,
      "outputs": [
        {
          "output_type": "stream",
          "name": "stdout",
          "text": [
            "\u001b[2K     \u001b[90m━━━━━━━━━━━━━━━━━━━━━━━━━━━━━━━━━━━━━━━━\u001b[0m \u001b[32m1.9/1.9 MB\u001b[0m \u001b[31m10.4 MB/s\u001b[0m eta \u001b[36m0:00:00\u001b[0m\n",
            "\u001b[2K     \u001b[90m━━━━━━━━━━━━━━━━━━━━━━━━━━━━━━━━━━━━━━━━\u001b[0m \u001b[32m532.7/532.7 kB\u001b[0m \u001b[31m16.2 MB/s\u001b[0m eta \u001b[36m0:00:00\u001b[0m\n",
            "\u001b[2K     \u001b[90m━━━━━━━━━━━━━━━━━━━━━━━━━━━━━━━━━━━━━━━━\u001b[0m \u001b[32m60.5/60.5 kB\u001b[0m \u001b[31m6.9 MB/s\u001b[0m eta \u001b[36m0:00:00\u001b[0m\n",
            "\u001b[2K     \u001b[90m━━━━━━━━━━━━━━━━━━━━━━━━━━━━━━━━━━━━━━━━\u001b[0m \u001b[32m69.3/69.3 kB\u001b[0m \u001b[31m7.8 MB/s\u001b[0m eta \u001b[36m0:00:00\u001b[0m\n",
            "\u001b[2K     \u001b[90m━━━━━━━━━━━━━━━━━━━━━━━━━━━━━━━━━━━━━━━━\u001b[0m \u001b[32m596.5/596.5 kB\u001b[0m \u001b[31m20.3 MB/s\u001b[0m eta \u001b[36m0:00:00\u001b[0m\n",
            "\u001b[2K     \u001b[90m━━━━━━━━━━━━━━━━━━━━━━━━━━━━━━━━━━━━━━━━\u001b[0m \u001b[32m202.6/202.6 kB\u001b[0m \u001b[31m18.0 MB/s\u001b[0m eta \u001b[36m0:00:00\u001b[0m\n",
            "\u001b[2K     \u001b[90m━━━━━━━━━━━━━━━━━━━━━━━━━━━━━━━━━━━━━━━━\u001b[0m \u001b[32m53.0/53.0 kB\u001b[0m \u001b[31m7.0 MB/s\u001b[0m eta \u001b[36m0:00:00\u001b[0m\n",
            "\u001b[2K     \u001b[90m━━━━━━━━━━━━━━━━━━━━━━━━━━━━━━━━━━━━━━━━\u001b[0m \u001b[32m6.9/6.9 MB\u001b[0m \u001b[31m38.2 MB/s\u001b[0m eta \u001b[36m0:00:00\u001b[0m\n",
            "\u001b[2K     \u001b[90m━━━━━━━━━━━━━━━━━━━━━━━━━━━━━━━━━━━━━━━━\u001b[0m \u001b[32m45.6/45.6 kB\u001b[0m \u001b[31m5.6 MB/s\u001b[0m eta \u001b[36m0:00:00\u001b[0m\n",
            "\u001b[?25h  Preparing metadata (setup.py) ... \u001b[?25l\u001b[?25hdone\n",
            "\u001b[2K     \u001b[90m━━━━━━━━━━━━━━━━━━━━━━━━━━━━━━━━━━━━━━━━\u001b[0m \u001b[32m2.4/2.4 MB\u001b[0m \u001b[31m58.6 MB/s\u001b[0m eta \u001b[36m0:00:00\u001b[0m\n",
            "\u001b[2K     \u001b[90m━━━━━━━━━━━━━━━━━━━━━━━━━━━━━━━━━━━━━━━━\u001b[0m \u001b[32m1.7/1.7 MB\u001b[0m \u001b[31m45.9 MB/s\u001b[0m eta \u001b[36m0:00:00\u001b[0m\n",
            "\u001b[2K     \u001b[90m━━━━━━━━━━━━━━━━━━━━━━━━━━━━━━━━━━━━━━━━\u001b[0m \u001b[32m117.8/117.8 kB\u001b[0m \u001b[31m13.2 MB/s\u001b[0m eta \u001b[36m0:00:00\u001b[0m\n",
            "\u001b[2K     \u001b[90m━━━━━━━━━━━━━━━━━━━━━━━━━━━━━━━━━━━━━━━━\u001b[0m \u001b[32m526.7/526.7 kB\u001b[0m \u001b[31m37.4 MB/s\u001b[0m eta \u001b[36m0:00:00\u001b[0m\n",
            "\u001b[?25h  Building wheel for rpcq (setup.py) ... \u001b[?25l\u001b[?25hdone\n",
            "\u001b[2K     \u001b[90m━━━━━━━━━━━━━━━━━━━━━━━━━━━━━━━━━━━━━━━━\u001b[0m \u001b[32m28.0/28.0 MB\u001b[0m \u001b[31m19.5 MB/s\u001b[0m eta \u001b[36m0:00:00\u001b[0m\n",
            "\u001b[?25h"
          ]
        }
      ]
    },
    {
      "cell_type": "markdown",
      "metadata": {
        "deletable": false,
        "editable": false,
        "nbgrader": {
          "cell_type": "markdown",
          "checksum": "c1ce5541e17c95ed5cfb5e61c6dcd24d",
          "grade": false,
          "grade_id": "cell-edf8a894a4f4bbbe",
          "locked": true,
          "schema_version": 3,
          "solution": false,
          "task": false
        },
        "id": "dsLocp4VvkEm"
      },
      "source": [
        "## Question 1 (3 points)\n",
        "\n",
        "Implement the function `create_circuit_1` that has\n",
        "\n",
        "* Inputs: None\n",
        "* Returns: a `cirq.Circuit` object of 5 qubits.\n",
        "\n",
        "The function implements, in order, the following operations:\n",
        "\n",
        "1. Construct a quantum circuit with 5 qubits.\n",
        "2. Apply the $H$ gate to each qubit.\n",
        "3. Apply the $Z$ gate to qubits in position 0,2 and 4.\n",
        "4. Apply the $H$ gate to each qubit.\n"
      ]
    },
    {
      "cell_type": "code",
      "execution_count": 16,
      "metadata": {
        "deletable": false,
        "nbgrader": {
          "cell_type": "code",
          "checksum": "6675f7346e6a454c494df998701cbe1a",
          "grade": false,
          "grade_id": "cell-0683bf25a5ca123e",
          "locked": false,
          "schema_version": 3,
          "solution": true,
          "task": false
        },
        "id": "XGcUzSuivkEn"
      },
      "outputs": [],
      "source": [
        "import cirq\n",
        "from cirq import H, Z\n",
        "\n",
        "def create_circuit_1():\n",
        "\n",
        "    circuit = cirq.Circuit()\n",
        "    # Do not modify anything above\n",
        "    q_list = cirq.LineQubit.range(5)\n",
        "    for i in range(5):\n",
        "      circuit.append(H(q_list[i]))\n",
        "    for i in range(0,5,2):\n",
        "      circuit.append(Z(q_list[i]))\n",
        "\n",
        "    for i in range(5):\n",
        "      circuit.append(H(q_list[i]))\n",
        "\n",
        "    # YOUR CODE HERE\n",
        "\n",
        "\n",
        "    # Do not modify anything below\n",
        "    return circuit"
      ]
    },
    {
      "cell_type": "code",
      "execution_count": 17,
      "metadata": {
        "colab": {
          "base_uri": "https://localhost:8080/"
        },
        "id": "3p6S8RtYvkEn",
        "outputId": "0dfcac3a-c6b4-48ce-b4f3-ba2fa013f79c"
      },
      "outputs": [
        {
          "output_type": "stream",
          "name": "stdout",
          "text": [
            "0: ───H───Z───H───\n",
            "\n",
            "1: ───H───H───────\n",
            "\n",
            "2: ───H───Z───H───\n",
            "\n",
            "3: ───H───H───────\n",
            "\n",
            "4: ───H───Z───H───\n"
          ]
        }
      ],
      "source": [
        "# You can check your code by running this cell\n",
        "circuit = create_circuit_1()\n",
        "print(circuit)"
      ]
    },
    {
      "cell_type": "code",
      "execution_count": null,
      "metadata": {
        "deletable": false,
        "editable": false,
        "nbgrader": {
          "cell_type": "code",
          "checksum": "1faadd8eabd0d9c9cbcba6053a97d0d3",
          "grade": true,
          "grade_id": "cell-041fe61de308fb11",
          "locked": true,
          "points": 3,
          "schema_version": 3,
          "solution": false,
          "task": false
        },
        "id": "tZJmrXBBvkEo"
      },
      "outputs": [],
      "source": [
        "# hidden tests in this cell will be used for grading."
      ]
    },
    {
      "cell_type": "markdown",
      "metadata": {
        "deletable": false,
        "editable": false,
        "nbgrader": {
          "cell_type": "markdown",
          "checksum": "7387d2fe969cbc2946f6152ea165c066",
          "grade": false,
          "grade_id": "cell-36db4e3cb005285d",
          "locked": true,
          "schema_version": 3,
          "solution": false,
          "task": false
        },
        "id": "DTSFgmABvkEo"
      },
      "source": [
        "## Question 2 (4 points)\n",
        "\n",
        "Implement the function `create_circuit_2` that has\n",
        "\n",
        "* Inputs: None\n",
        "* Returns: (1) a `cirq.Circuit` object of 5 qubits, (2) measurement results of the circuit for 1000 iterations (a `collections.Counter` object).\n",
        "\n",
        "The function implements, in order, the following operations:\n",
        "\n",
        "1. Construct a quantum circuit with 5 qubits.\n",
        "2. Apply the $H$ gate to each qubit\n",
        "3. Apply $NOT$ gate to qubit in position 0 controlled by the other qubits. (1,2,3,4)\n",
        "4. Measure qubit 0\n",
        "5. Run your circuit for 1000 times\n",
        "\n",
        "\n",
        "\n",
        "You should observe 0 and 1 almost with equal probability."
      ]
    },
    {
      "cell_type": "code",
      "execution_count": 22,
      "metadata": {
        "deletable": false,
        "nbgrader": {
          "cell_type": "code",
          "checksum": "7ded5363ebf48fca110eb07a6773d25d",
          "grade": false,
          "grade_id": "cell-e31995d6d1a81a9b",
          "locked": false,
          "schema_version": 3,
          "solution": true,
          "task": false
        },
        "id": "n4XcEzc7vkEo"
      },
      "outputs": [],
      "source": [
        "import cirq\n",
        "from cirq import X, H, measure\n",
        "\n",
        "def create_circuit_2():\n",
        "\n",
        "    circuit = cirq.Circuit()\n",
        "    # Do not modify anything above\n",
        "\n",
        "    q_list = cirq.LineQubit.range(5)\n",
        "    for i in range(5):\n",
        "      circuit.append(H(q_list[i]))\n",
        "    circuit.append(X(q_list[0]).controlled_by(*q_list[1:5]))\n",
        "\n",
        "\n",
        "\n",
        "    circuit.append(measure(q_list[0],key='result'))\n",
        "    s = cirq.Simulator()\n",
        "    samples = s.run(circuit, repetitions=1000)\n",
        "\n",
        "    # YOUR CODE HERE\n",
        "\n",
        "\n",
        "    # Do not modify anything below\n",
        "\n",
        "    result = samples.histogram(key='result')\n",
        "    return circuit, result"
      ]
    },
    {
      "cell_type": "code",
      "execution_count": 23,
      "metadata": {
        "colab": {
          "base_uri": "https://localhost:8080/"
        },
        "id": "009ASM9ovkEo",
        "outputId": "4a8d9a80-4d06-41dc-e42c-5bae6000ae4f"
      },
      "outputs": [
        {
          "output_type": "stream",
          "name": "stdout",
          "text": [
            "0: ───H───X───M('result')───\n",
            "          │\n",
            "1: ───H───@─────────────────\n",
            "          │\n",
            "2: ───H───@─────────────────\n",
            "          │\n",
            "3: ───H───@─────────────────\n",
            "          │\n",
            "4: ───H───@─────────────────\n",
            "Counter({0: 508, 1: 492})\n"
          ]
        }
      ],
      "source": [
        "# You can check your code by running this cell\n",
        "circuit, result = create_circuit_2()\n",
        "print(circuit)\n",
        "print(result)"
      ]
    },
    {
      "cell_type": "code",
      "execution_count": null,
      "metadata": {
        "deletable": false,
        "editable": false,
        "nbgrader": {
          "cell_type": "code",
          "checksum": "47a726fd7693058616a41fc18f5d94a3",
          "grade": true,
          "grade_id": "cell-5a14b4689c1adff2",
          "locked": true,
          "points": 4,
          "schema_version": 3,
          "solution": false,
          "task": false
        },
        "id": "hesaxQcZvkEo"
      },
      "outputs": [],
      "source": [
        "# hidden tests in this cell will be used for grading."
      ]
    },
    {
      "cell_type": "markdown",
      "metadata": {
        "deletable": false,
        "editable": false,
        "nbgrader": {
          "cell_type": "markdown",
          "checksum": "41da0f2cedb4d1eb760aa8da5782c339",
          "grade": false,
          "grade_id": "cell-47cf150131f07ef4",
          "locked": true,
          "schema_version": 3,
          "solution": false,
          "task": false
        },
        "id": "lfMCiL2TvkEo"
      },
      "source": [
        "## Question 3 (3 points)\n",
        "\n",
        "\n",
        "Implement the function `create_circuit_3`\n",
        "\n",
        "* Inputs: None\n",
        "* Returns: (1) a `cirq.Circuit` object of 2 qubits, (2) a `numpy.ndarray` object that is the unitary matrix associated with the circuit.\n",
        "\n",
        "The function implements, in order, the following operations:\n",
        "\n",
        "1. Construct a quantum circuit with 2 qubits.\n",
        "2. Apply $CNOT$ gate where qubit 0 is the control and qubit 1 is the target qubit\n",
        "3. Apply $CNOT$ gate where qubit 1 is the control and qubit 0 is the target qubit\n",
        "4. Apply $CNOT$ gate where qubit 0 is the control and qubit 1 is the target qubit\n",
        "5. Obtain the unitary matrix representation of your circuit.\n",
        "\n",
        "_Note: The circuit you implemented swaps the qubits 0 and 1._"
      ]
    },
    {
      "cell_type": "code",
      "execution_count": 20,
      "metadata": {
        "deletable": false,
        "nbgrader": {
          "cell_type": "code",
          "checksum": "b1f12724c03d3e2c9845a76426108cf0",
          "grade": false,
          "grade_id": "cell-7a7e512a625bf9d2",
          "locked": false,
          "schema_version": 3,
          "solution": true,
          "task": false
        },
        "id": "Q04xFTNMvkEo"
      },
      "outputs": [],
      "source": [
        "import cirq\n",
        "from cirq import CX\n",
        "\n",
        "def create_circuit_3():\n",
        "\n",
        "    circuit = cirq.Circuit()\n",
        "    # Do not modify anything above\n",
        "\n",
        "    q_list = cirq.LineQubit.range(2)\n",
        "    circuit.append(CX(q_list[0],q_list[1]))\n",
        "    circuit.append(CX(q_list[1],q_list[0]))\n",
        "    circuit.append(CX(q_list[0],q_list[1]))\n",
        "    unitary_matrix = cirq.unitary(circuit)\n",
        "\n",
        "    # YOUR CODE HERE\n",
        "\n",
        "    # Do not modify anything below\n",
        "\n",
        "    return circuit, unitary_matrix"
      ]
    },
    {
      "cell_type": "code",
      "execution_count": 21,
      "metadata": {
        "colab": {
          "base_uri": "https://localhost:8080/"
        },
        "id": "CvXSNMd_vkEp",
        "outputId": "59cb3699-d604-4be1-b461-b92d761381c2"
      },
      "outputs": [
        {
          "output_type": "stream",
          "name": "stdout",
          "text": [
            "0: ───@───X───@───\n",
            "      │   │   │\n",
            "1: ───X───@───X───\n",
            "[[1.+0.j 0.+0.j 0.+0.j 0.+0.j]\n",
            " [0.+0.j 0.+0.j 1.+0.j 0.+0.j]\n",
            " [0.+0.j 1.+0.j 0.+0.j 0.+0.j]\n",
            " [0.+0.j 0.+0.j 0.+0.j 1.+0.j]]\n"
          ]
        }
      ],
      "source": [
        "# You can check your code here by printing the circuit and the matrix\n",
        "circuit, matrix = create_circuit_3()\n",
        "print(circuit)\n",
        "print(matrix)"
      ]
    },
    {
      "cell_type": "code",
      "execution_count": null,
      "metadata": {
        "deletable": false,
        "editable": false,
        "nbgrader": {
          "cell_type": "code",
          "checksum": "8c0dee0fe2fb7a18fdae7d5614cf8193",
          "grade": true,
          "grade_id": "cell-1649e0ba8b7de058",
          "locked": true,
          "points": 3,
          "schema_version": 3,
          "solution": false,
          "task": false
        },
        "id": "ha8C8OGJvkEp"
      },
      "outputs": [],
      "source": [
        "# hidden tests in this cell will be used for grading."
      ]
    },
    {
      "cell_type": "code",
      "execution_count": null,
      "metadata": {
        "id": "oeHDxN59vkEp"
      },
      "outputs": [],
      "source": []
    }
  ],
  "metadata": {
    "kernelspec": {
      "display_name": "Python 3 (ipykernel)",
      "language": "python",
      "name": "python3"
    },
    "language_info": {
      "codemirror_mode": {
        "name": "ipython",
        "version": 3
      },
      "file_extension": ".py",
      "mimetype": "text/x-python",
      "name": "python",
      "nbconvert_exporter": "python",
      "pygments_lexer": "ipython3",
      "version": "3.10.12"
    },
    "colab": {
      "provenance": []
    }
  },
  "nbformat": 4,
  "nbformat_minor": 0
}