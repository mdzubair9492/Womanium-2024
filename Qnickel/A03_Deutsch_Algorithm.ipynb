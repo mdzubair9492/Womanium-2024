{
 "cells": [
  {
   "cell_type": "markdown",
   "metadata": {},
   "source": [
    "<table> <tr>\n",
    "        <td  style=\"background-color:#ffffff;\">\n",
    "            <a href=\"https://qworld.net\" target=\"_blank\"><img src=\"../images/qworld.jpg\" width=\"25%\" align=\"left\"> </a></td>\n",
    "        <td style=\"background-color:#ffffff;vertical-align:bottom;text-align:right;\">\n",
    "            prepared by Berat Yenilen, Utku Birkan, Arda Çınar, Cenk Tüysüz and Özlem Salehi (<a href=\"https://qworld.net/qturkey/\" target=\"_blank\">QTurkey</a>)\n",
    "        </td>        \n",
    "</tr></table>"
   ]
  },
  {
   "cell_type": "markdown",
   "metadata": {},
   "source": [
    "<table width=\"100%\"><tr><td style=\"color:#bbbbbb;background-color:#ffffff;font-size:11px;font-style:italic;text-align:right;\">This cell contains some macros. If there is a problem with displaying mathematical formulas, please run this cell to load these macros. </td></tr></table>\n",
    "$ \\newcommand{\\bra}[1]{\\langle #1|} $\n",
    "$ \\newcommand{\\ket}[1]{|#1\\rangle} $\n",
    "$ \\newcommand{\\braket}[2]{\\langle #1|#2\\rangle} $\n",
    "$ \\newcommand{\\dot}[2]{ #1 \\cdot #2} $\n",
    "$ \\newcommand{\\biginner}[2]{\\left\\langle #1,#2\\right\\rangle} $\n",
    "$ \\newcommand{\\mymatrix}[2]{\\left( \\begin{array}{#1} #2\\end{array} \\right)} $\n",
    "$ \\newcommand{\\myvector}[1]{\\mymatrix{c}{#1}} $\n",
    "$ \\newcommand{\\myrvector}[1]{\\mymatrix{r}{#1}} $\n",
    "$ \\newcommand{\\mypar}[1]{\\left( #1 \\right)} $\n",
    "$ \\newcommand{\\mybigpar}[1]{ \\Big( #1 \\Big)} $\n",
    "$ \\newcommand{\\sqrttwo}{\\frac{1}{\\sqrt{2}}} $\n",
    "$ \\newcommand{\\dsqrttwo}{\\dfrac{1}{\\sqrt{2}}} $\n",
    "$ \\newcommand{\\onehalf}{\\frac{1}{2}} $\n",
    "$ \\newcommand{\\donehalf}{\\dfrac{1}{2}} $\n",
    "$ \\newcommand{\\hadamard}{ \\mymatrix{rr}{ \\sqrttwo & \\sqrttwo \\\\ \\sqrttwo & -\\sqrttwo }} $\n",
    "$ \\newcommand{\\vzero}{\\myvector{1\\\\0}} $\n",
    "$ \\newcommand{\\vone}{\\myvector{0\\\\1}} $\n",
    "$ \\newcommand{\\stateplus}{\\myvector{ \\sqrttwo \\\\  \\sqrttwo } } $\n",
    "$ \\newcommand{\\stateminus}{ \\myrvector{ \\sqrttwo \\\\ -\\sqrttwo } } $\n",
    "$ \\newcommand{\\myarray}[2]{ \\begin{array}{#1}#2\\end{array}} $\n",
    "$ \\newcommand{\\X}{ \\mymatrix{cc}{0 & 1 \\\\ 1 & 0}  } $\n",
    "$ \\newcommand{\\Z}{ \\mymatrix{rr}{1 & 0 \\\\ 0 & -1}  } $\n",
    "$ \\newcommand{\\Htwo}{ \\mymatrix{rrrr}{ \\frac{1}{2} & \\frac{1}{2} & \\frac{1}{2} & \\frac{1}{2} \\\\ \\frac{1}{2} & -\\frac{1}{2} & \\frac{1}{2} & -\\frac{1}{2} \\\\ \\frac{1}{2} & \\frac{1}{2} & -\\frac{1}{2} & -\\frac{1}{2} \\\\ \\frac{1}{2} & -\\frac{1}{2} & -\\frac{1}{2} & \\frac{1}{2} } } $\n",
    "$ \\newcommand{\\CNOT}{ \\mymatrix{cccc}{1 & 0 & 0 & 0 \\\\ 0 & 1 & 0 & 0 \\\\ 0 & 0 & 0 & 1 \\\\ 0 & 0 & 1 & 0} } $\n",
    "$ \\newcommand{\\norm}[1]{ \\left\\lVert #1 \\right\\rVert } $\n",
    "$ \\newcommand{\\pstate}[1]{ \\lceil \\mspace{-1mu} #1 \\mspace{-1.5mu} \\rfloor } $"
   ]
  },
  {
   "cell_type": "markdown",
   "metadata": {},
   "source": [
    "<h1> Deutsch's Algorithm </h1>"
   ]
  },
  {
   "cell_type": "markdown",
   "metadata": {},
   "source": [
    "In this notebook, we will look at one of the first problems that is solved using quantum computers with an advantage compared to classical computers."
   ]
  },
  {
   "cell_type": "markdown",
   "metadata": {},
   "source": [
    "<h2>Deutsch's problem</h2>\n",
    "\n",
    "Given a boolean function $f:\\{0,1\\} \\rightarrow \\{0, 1\\}$, we say $f$ is balanced if $f(0) \\neq f(1)$ and constant if $f(0) = f(1)$.\n",
    "\n",
    "Given  $f:\\{0,1\\} \\rightarrow \\{0, 1\\}$ as an oracle, that is we can evaluate it for an input by making queries but we can't look inside, the problem is to decide whether $f$ is constant or balanced."
   ]
  },
  {
   "cell_type": "markdown",
   "metadata": {},
   "source": [
    "<h3>Oracle model of computation </h3>\n",
    "\n",
    "Suppose that your friend picks such a function $f$ and you try to guess whether it is constant or balanced. You are only allowed to ask questions like \"What is $f(0)$?\" Each question you ask, is a query to the function $f$. In quantum computing, many algorithms rely on this oracle model of computation and the aim is to solve some problem making as minimum queries as possible.\n",
    "\n",
    "\n",
    "## Classical solution\n",
    "\n",
    "Given such a function, we need to evaluate the function *twice* to get an answer using a classical computer. \n",
    "\n",
    "## Quantum solution\n",
    "\n",
    "We had previously established that every 'classical' logical function $f$ can be converted to an equivalent unitary operator $U_f$ (by constructing a logical quantum circuit). Now we are going to propose a quantum algorithm that evaluates $U_f$ only *once*.\n",
    "\n",
    " <img src=\"../images/deutsch.png\" width=\"40%\" align=\"center\">\n",
    "    </td></tr>"
   ]
  },
  {
   "cell_type": "markdown",
   "metadata": {},
   "source": [
    "<h2> Algorithm </h2>"
   ]
  },
  {
   "cell_type": "markdown",
   "metadata": {},
   "source": [
    "We construct a 2 qubit circuit.\n",
    "\n",
    "- Set the second qubit to state $\\ket{-}$ by applying $X$ and $H$ gates.\n",
    "\n",
    "- Apply $H$ to first qubit.\n",
    "\n",
    "- Apply $U_f$.\n",
    "\n",
    "- Apply $H$ to first qubit.\n",
    "\n",
    "- Measure the first qubit. If it is 0 then $f$ is constant. If it is 1, then $f$ is balanced.\n",
    "\n",
    "\n",
    " <img src=\"../images/deutsch_2.png\" width=\"50%\" align=\"center\">\n",
    "    </td></tr>\n"
   ]
  },
  {
   "cell_type": "markdown",
   "metadata": {},
   "source": [
    "<h2> Analysis </h2>"
   ]
  },
  {
   "cell_type": "markdown",
   "metadata": {},
   "source": [
    "    \n",
    "We start with the initial state $\\ket{\\psi_0} = \\ket{0}\\ket{0}$. Next we apply an $X$ gate to the second qubit and obtain the state $\\ket{\\psi_1} = \\ket{0}\\ket{1}.$\n",
    "\n",
    "After applying $H$ to both qubits, the first qubit is in the equal superposition state and the second qubit is now in state $\\ket{-}$."
   ]
  },
  {
   "cell_type": "markdown",
   "metadata": {},
   "source": [
    "\\begin{align*}\n",
    "\\ket{\\psi_2} &= \\left(\\frac{1}{\\sqrt{2}}\\ket{0} +\\frac{1}{\\sqrt{2}}\\ket{1} \\right) \\ket{-} \\\\\n",
    " &= \\frac{1}{\\sqrt{2}}\\ket{0}\\ket{-}  +\\frac{1}{\\sqrt{2}}\\ket{1}\\ket{-}  \\\\ \n",
    "\\\\\n",
    "\\hspace{-2in}\\mbox{Next we apply $U_f$ to $\\ket{\\psi_2}$ and obtain $\\ket{\\psi_3}$}.\\\\\n",
    "\\\\\n",
    "\\ket{\\psi_3} &= U_f\\left(\\frac{1}{\\sqrt{2}}\\ket{0}\\ket{-}+\\frac{1}{\\sqrt{2}}\\ket{1}\\ket{-}\\right) \\\\\n",
    "&= \\frac{1}{\\sqrt{2}}U_f\\ket{0}\\ket{-}+\\frac{1}{\\sqrt{2}}U_f\\ket{1}\\ket{-} &\\mbox{ Linearity of the operator.} \\\\\n",
    "&= \\frac{1}{\\sqrt{2}}(-1)^{f(0)}\\ket{0}\\ket{-}+\\frac{1}{\\sqrt{2}}(-1)^{f(1)}\\ket{1}\\ket{-}  &\\mbox{ By phase kickback.} \\\\\n",
    "&= \\left(\\frac{1}{\\sqrt{2}}(-1)^{f(0)}\\ket{0}+\\frac{1}{\\sqrt{2}}(-1)^{f(1)}\\ket{1}\\right)\\ket{-} \\\\\n",
    "\\\\\n",
    "\\end{align*}"
   ]
  },
  {
   "cell_type": "markdown",
   "metadata": {},
   "source": [
    "Let's focus on the first qubit. Now we will move on to vector notation as the analysis will be easier. We can express $\\ket{\\psi_3}$ using the following vector:\n",
    "\n",
    "$$\\hspace{-3.1in} \\ket{\\psi_{3,0}} = \\frac{1}{\\sqrt{2}}\\myvector{(-1)^{f(0)} \\\\ (-1)^{f(1)}} $$\n",
    "\n",
    "Next, we apply $H$ gate to first qubit and obtain the following state vector:\n",
    "\n",
    "$$ \\hspace{-2.5in}\\ket{\\psi_{4,0}} =\\frac{1}{\\sqrt{2}}\\hadamard \\myvector{(-1)^{f(0)} \\\\ (-1)^{f(1)}}$$ \n",
    "\n",
    "$$ \\hspace{-2in}=\\frac{1}{2}\\myvector{ (-1)^{f(0)} + (-1)^{f(1)} \\\\ (-1)^{f(0)} - (-1)^{f(1)} } $$"
   ]
  },
  {
   "cell_type": "markdown",
   "metadata": {},
   "source": [
    "Now let's consider the two cases."
   ]
  },
  {
   "cell_type": "markdown",
   "metadata": {},
   "source": [
    "- $f$ is constant:\n",
    "\n",
    "In this case $ f(0) = f(1) $ and $\\ket{\\psi_{4,0}}= \\myvector{ (-1)^{f(0)} \\\\ 0 } $ and the corresponding quantum state is $\\ket{\\psi_{4,0}}=(-1)^{f(0)} \\ket{0}$. Hence, we observe 0 with probability 1. (Since $f(0)=f(1)$, you can equivalently replace it.)"
   ]
  },
  {
   "cell_type": "markdown",
   "metadata": {},
   "source": [
    "- $f$ is balanced:\n",
    "\n",
    "In this case, $ f(0) \\neq f(1) $ and $\\ket{\\psi_{4,0}}= \\myvector{ 0 \\\\ (-1)^{f(0)} } $ and the corresponding quantum state is $\\ket{\\psi_{4,0}}=(-1)^{f(0)} \\ket{1}$. Hence, we observe 1 with probability 1."
   ]
  },
  {
   "cell_type": "markdown",
   "metadata": {},
   "source": [
    "So, we can find (with 100% certainty) whether $f$ is constant or balanced by making only a single query to function $f$."
   ]
  },
  {
   "cell_type": "markdown",
   "metadata": {},
   "source": [
    "\n",
    "_Note: Alternatively, we could analyze the state $\\left(\\frac{1}{\\sqrt{2}}(-1)^{f(0)}\\ket{0}+\\frac{1}{\\sqrt{2}}(-1)^{f(1)}\\ket{1}\\right)\\ket{-}$ for each possible $f$ and then apply $H$ to see its effect. For instance, if $f(0)=f(1)$, then $\\ket{\\psi_3}$ reduces to $\\ket{+}\\ket{-}$ so that after applying $H$, you obtain $\\ket{0}$._"
   ]
  },
  {
   "cell_type": "markdown",
   "metadata": {},
   "source": [
    "<h3> Task 1 </h3>\n",
    "\n",
    "You are given an oracle function called `oracle()`, which returns randomly a quantum circuit with 2 qubits corresponding to an either constant or a balanced function $f$. This circuit represents the operator $U_f$ in our algorithm. Note that qubit 0 is the input and qubit 1 is the output qubit.\n",
    "\n",
    "Implement the proposed algorithm to decide whether or not your oracle function is constant or even. \n",
    "\n",
    "(Note: You should be able the see the circuit structure of $U_f$, if you draw your circuit. Can you check whether your result is correct or not by looking at this circuit?)\n",
    "\n",
    "<h5>Qiskit notes:</h5>\n",
    "\n",
    "- Run the following cell to load oracle function. `oracle()` returns a quantum circuit implementing $U_f$.\n",
    "- You can use `circuit.compose(oracle(), inplace=True)` to add the oracle to your whole circuit. (In general, you can define functions returning circuits and append them to your circuit by `compose` method.)\n",
    "- Barriers are not quantum programming primitives but they instruct qiskit to not apply any optimizations across the barrier and also useful for visualization. You may add them to your circuit using `circuit.barrier()`.\n"
   ]
  },
  {
   "cell_type": "code",
   "execution_count": 1,
   "metadata": {},
   "outputs": [],
   "source": [
    "%run oracle.py"
   ]
  },
  {
   "cell_type": "code",
   "execution_count": 2,
   "metadata": {},
   "outputs": [
    {
     "data": {
      "image/png": "[encoded data removed]",
      "text/plain": [
       "<Figure size 621.739x284.278 with 1 Axes>"
      ]
     },
     "execution_count": 2,
     "metadata": {},
     "output_type": "execute_result"
    }
   ],
   "source": [
    "from qiskit import QuantumCircuit\n",
    "from qiskit_aer import AerSimulator\n",
    "\n",
    "circuit = QuantumCircuit(2, 1)\n",
    "\n",
    "# Your code here\n",
    "# Apply X and H to qubit 1\n",
    "circuit.x(1)\n",
    "circuit.h(1)\n",
    "# Apply H to  qubit 0\n",
    "circuit.h(0)\n",
    "# Apply oracle\n",
    "circuit.compose(oracle(), inplace=True)\n",
    "# Apply H to qubit 1\n",
    "circuit.h(1)\n",
    "# Measure the qubit 1\n",
    "circuit.measure(1, 0)\n",
    "\n",
    "circuit.draw(output='mpl')"
   ]
  },
  {
   "cell_type": "code",
   "execution_count": 3,
   "metadata": {},
   "outputs": [
    {
     "name": "stdout",
     "output_type": "stream",
     "text": [
      "{'1': 10000}\n"
     ]
    }
   ],
   "source": [
    "job = AerSimulator().run(circuit,shots=10000)\n",
    "counts = job.result().get_counts()\n",
    "print(counts)"
   ]
  },
  {
   "cell_type": "markdown",
   "metadata": {},
   "source": [
    "<a href=\"A03_Deutsch_Algorithm_Solutions.ipynb#task1\">click for our solution</a>"
   ]
  },
  {
   "cell_type": "markdown",
   "metadata": {},
   "source": [
    "<h3> Task 2 </h3> \n",
    "\n",
    "There are four possible functions $f(x)$. Could you identify what these are? \n",
    "\n",
    "Write down the `oracle()` function which implements each. That is, you should construct a circuit implementing $U_f: \\ket{x}\\ket{y} \\mapsto \\ket{x}\\ket{y \\oplus f(x)} $. \n",
    "\n",
    "Note that qubit 0 is the input and qubit 1 is the output qubit. One of the functions is implemented for you to give you an idea."
   ]
  },
  {
   "cell_type": "code",
   "execution_count": 4,
   "metadata": {},
   "outputs": [],
   "source": [
    "import random\n",
    "from qiskit import QuantumCircuit\n",
    "from qiskit_aer import AerSimulator\n",
    "\n",
    "# here , inside f() the value is input qubit and after = indicates output qubit\n",
    "# f(0)=f(1)=0\n",
    "def oracle1():\n",
    "    circuit = QuantumCircuit(2)\n",
    "    \n",
    "    circuit.barrier()\n",
    "    circuit.barrier()\n",
    "    \n",
    "    return circuit\n",
    "\n",
    "# f(0)=f(1)=1\n",
    "def oracle2():\n",
    "    circuit = QuantumCircuit(2)\n",
    "    \n",
    "    circuit.barrier()\n",
    "    circuit.x(1)\n",
    "    circuit.barrier()\n",
    "    \n",
    "    return circuit\n",
    "\n",
    "# f(0) = 0 and f(1)=1\n",
    "def oracle3():\n",
    "    circuit = QuantumCircuit(2)\n",
    "    \n",
    "    circuit.barrier()\n",
    "    circuit.cx(0,1)\n",
    "    circuit.barrier()\n",
    "    \n",
    "    return circuit\n",
    "\n",
    "# f(0) = 1 and f(1)=0\n",
    "def oracle4():\n",
    "    circuit = QuantumCircuit(2)\n",
    "    circuit.barrier()\n",
    "    circuit.x(0) # Flip |0> to |1> and |1> to |0>\n",
    "    circuit.cx(0,1) # Apply CNOT gate\n",
    "    circuit.x(0) # Flip back to the original state\n",
    "    circuit.barrier()\n",
    "\n",
    "    \n",
    "    return circuit"
   ]
  },
  {
   "cell_type": "markdown",
   "metadata": {},
   "source": [
    "<a href=\"A03_Deutsch_Algorithm_Solutions.ipynb#task2\">click for our solution</a>"
   ]
  },
  {
   "cell_type": "markdown",
   "metadata": {},
   "source": [
    "Deutsch's algorithm proves that you can solve the same problem by making only 1 query instead of 2, without making any errors. This is one of the first results where we gain advantage using quantum computing but yet it is not an enough speedup. Next, we will see some algorithms where this gap is greater. "
   ]
  }
 ],
 "metadata": {
  "kernelspec": {
   "display_name": "Python 3 (ipykernel)",
   "language": "python",
   "name": "python3"
  },
  "language_info": {
   "codemirror_mode": {
    "name": "ipython",
    "version": 3
   },
   "file_extension": ".py",
   "mimetype": "text/x-python",
   "name": "python",
   "nbconvert_exporter": "python",
   "pygments_lexer": "ipython3",
   "version": "3.11.9"
  }
 },
 "nbformat": 4,
 "nbformat_minor": 4
}
