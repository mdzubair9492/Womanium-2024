{
 "cells": [
  {
   "cell_type": "code",
   "execution_count": 1,
   "metadata": {},
   "outputs": [],
   "source": [
    "from classiq import*"
   ]
  },
  {
   "cell_type": "code",
   "execution_count": 7,
   "metadata": {},
   "outputs": [
    {
     "name": "stdout",
     "output_type": "stream",
     "text": [
      "Your user code: RZQM-BCMC\n",
      "If a browser doesn't automatically open, please visit this URL from any trusted device: https://auth.classiq.io/activate?user_code=RZQM-BCMC\n"
     ]
    }
   ],
   "source": [
    "authenticate()"
   ]
  },
  {
   "cell_type": "code",
   "execution_count": 8,
   "metadata": {},
   "outputs": [],
   "source": [
    "@qfunc\n",
    "def main(x: Output[QNum],y: Output[QNum]):\n",
    "    allocate(4,x)\n",
    "    hadamard_transform(x) # create a uniform superpostion\n",
    "    y |= x**2 +1"
   ]
  },
  {
   "cell_type": "code",
   "execution_count": 9,
   "metadata": {},
   "outputs": [],
   "source": [
    "quantum_program = synthesize(create_model(main))"
   ]
  },
  {
   "cell_type": "code",
   "execution_count": 10,
   "metadata": {},
   "outputs": [
    {
     "name": "stdout",
     "output_type": "stream",
     "text": [
      "Opening: https://platform.classiq.io/circuit/0fd62d67-2799-4a2b-8e25-44abb2f227c6?version=0.42.2\n"
     ]
    }
   ],
   "source": [
    "show(quantum_program)"
   ]
  },
  {
   "cell_type": "code",
   "execution_count": 11,
   "metadata": {},
   "outputs": [
    {
     "name": "stdout",
     "output_type": "stream",
     "text": [
      "[{'x': 12.0, 'y': 145.0}: 147, {'x': 11.0, 'y': 122.0}: 141, {'x': 13.0, 'y': 170.0}: 136, {'x': 8.0, 'y': 65.0}: 135, {'x': 6.0, 'y': 37.0}: 130, {'x': 14.0, 'y': 197.0}: 128, {'x': 9.0, 'y': 82.0}: 128, {'x': 15.0, 'y': 226.0}: 128, {'x': 1.0, 'y': 2.0}: 127, {'x': 4.0, 'y': 17.0}: 126, {'x': 7.0, 'y': 50.0}: 122, {'x': 0.0, 'y': 1.0}: 122, {'x': 5.0, 'y': 26.0}: 121, {'x': 10.0, 'y': 101.0}: 121, {'x': 2.0, 'y': 5.0}: 120, {'x': 3.0, 'y': 10.0}: 116]\n"
     ]
    }
   ],
   "source": [
    "job = execute(quantum_program)\n",
    "results = job.result()[0].value.parsed_counts\n",
    "print(results)"
   ]
  },
  {
   "cell_type": "code",
   "execution_count": null,
   "metadata": {},
   "outputs": [],
   "source": []
  }
 ],
 "metadata": {
  "kernelspec": {
   "display_name": "Python 3",
   "language": "python",
   "name": "python3"
  },
  "language_info": {
   "codemirror_mode": {
    "name": "ipython",
    "version": 3
   },
   "file_extension": ".py",
   "mimetype": "text/x-python",
   "name": "python",
   "nbconvert_exporter": "python",
   "pygments_lexer": "ipython3",
   "version": "3.11.9"
  }
 },
 "nbformat": 4,
 "nbformat_minor": 2
}
